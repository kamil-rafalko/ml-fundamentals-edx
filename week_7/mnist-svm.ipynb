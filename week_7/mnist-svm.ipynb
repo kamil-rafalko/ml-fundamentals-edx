{
 "cells": [
  {
   "cell_type": "code",
   "execution_count": 9,
   "metadata": {
    "collapsed": true
   },
   "outputs": [
    {
     "data": {
      "text/plain": "dict_keys(['data', 'target', 'frame', 'feature_names', 'target_names', 'DESCR', 'details', 'categories', 'url'])"
     },
     "execution_count": 9,
     "metadata": {},
     "output_type": "execute_result"
    }
   ],
   "source": [
    "from sklearn.datasets import fetch_openml\n",
    "\n",
    "mnist = fetch_openml('mnist_784', version=1)\n",
    "mnist.keys()"
   ]
  },
  {
   "cell_type": "code",
   "execution_count": 10,
   "outputs": [],
   "source": [
    "import numpy as np\n",
    "\n",
    "X, y = mnist['data'], mnist['target']\n",
    "\n",
    "y = y.astype(np.uint8)\n",
    "\n",
    "X_train, X_test, y_train, y_test = X[:60000], X[60000:], y[:60000], y[60000:]"
   ],
   "metadata": {
    "collapsed": false,
    "pycharm": {
     "name": "#%%\n"
    }
   }
  },
  {
   "cell_type": "code",
   "execution_count": 19,
   "outputs": [
    {
     "name": "stderr",
     "output_type": "stream",
     "text": [
      "/home/kamil/anaconda3/envs/ml-fundamentals-edx/lib/python3.7/site-packages/sklearn/svm/_base.py:947: ConvergenceWarning: Liblinear failed to converge, increase the number of iterations.\n",
      "  \"the number of iterations.\", ConvergenceWarning)\n"
     ]
    },
    {
     "data": {
      "text/plain": "LinearSVC(C=0.1, class_weight=None, dual=True, fit_intercept=True,\n          intercept_scaling=1, loss='hinge', max_iter=1000, multi_class='ovr',\n          penalty='l2', random_state=None, tol=0.0001, verbose=0)"
     },
     "execution_count": 19,
     "metadata": {},
     "output_type": "execute_result"
    }
   ],
   "source": [
    "from sklearn.svm import LinearSVC\n",
    "from sklearn.model_selection import GridSearchCV\n",
    "\n",
    "\n",
    "param_grid = [\n",
    "    {'C': [0.01, 0.1, 1.0, 10.0, 100.0]}\n",
    "]\n",
    "\n",
    "linear_svc = LinearSVC(loss='hinge', C=0.01)\n",
    "\n",
    "grid_search = GridSearchCV(linear_svc, param_grid, cv=5,\n",
    "                           return_train_score=True, scoring='accuracy',\n",
    "                           verbose=1)\n",
    "\n",
    "# grid_search.fit(X_train, y_train)\n",
    "\n",
    "linear_svc.fit(X_train, y_train)"
   ],
   "metadata": {
    "collapsed": false,
    "pycharm": {
     "name": "#%%\n"
    }
   }
  },
  {
   "cell_type": "code",
   "execution_count": 18,
   "outputs": [
    {
     "data": {
      "text/plain": "0.09671428571428571"
     },
     "execution_count": 18,
     "metadata": {},
     "output_type": "execute_result"
    }
   ],
   "source": [
    "predicted = linear_svc.predict(X_train)\n",
    "diffs = y_train - predicted\n",
    "np.nonzero(diffs)[0].size / y.size"
   ],
   "metadata": {
    "collapsed": false,
    "pycharm": {
     "name": "#%%\n"
    }
   }
  },
  {
   "cell_type": "code",
   "execution_count": 15,
   "outputs": [
    {
     "name": "stdout",
     "output_type": "stream",
     "text": [
      "5\n",
      "8\n",
      "253\n"
     ]
    },
    {
     "name": "stderr",
     "output_type": "stream",
     "text": [
      "/home/kamil/anaconda3/envs/ml-fundamentals-edx/lib/python3.7/site-packages/ipykernel_launcher.py:3: RuntimeWarning: overflow encountered in ubyte_scalars\n",
      "  This is separate from the ipykernel package so we can avoid doing imports until\n"
     ]
    }
   ],
   "source": [
    "print(y_train[690])\n",
    "print(predicted[690])\n",
    "print(y_train[690] - predicted[690])"
   ],
   "metadata": {
    "collapsed": false,
    "pycharm": {
     "name": "#%%\n"
    }
   }
  },
  {
   "cell_type": "code",
   "execution_count": 20,
   "outputs": [
    {
     "name": "stderr",
     "output_type": "stream",
     "text": [
      "/home/kamil/anaconda3/envs/ml-fundamentals-edx/lib/python3.7/site-packages/sklearn/svm/_base.py:947: ConvergenceWarning: Liblinear failed to converge, increase the number of iterations.\n",
      "  \"the number of iterations.\", ConvergenceWarning)\n"
     ]
    },
    {
     "data": {
      "text/plain": "0.11347142857142857"
     },
     "execution_count": 20,
     "metadata": {},
     "output_type": "execute_result"
    }
   ],
   "source": [
    "linear_svc_2 = LinearSVC(loss='hinge', C=0.1)\n",
    "linear_svc_2.fit(X_train, y_train)\n",
    "\n",
    "predicted_2 = linear_svc.predict(X_train)\n",
    "diffs = y_train - predicted_2\n",
    "np.nonzero(diffs)[0].size / y.size"
   ],
   "metadata": {
    "collapsed": false,
    "pycharm": {
     "name": "#%%\n"
    }
   }
  },
  {
   "cell_type": "code",
   "execution_count": 21,
   "outputs": [
    {
     "name": "stderr",
     "output_type": "stream",
     "text": [
      "/home/kamil/anaconda3/envs/ml-fundamentals-edx/lib/python3.7/site-packages/sklearn/svm/_base.py:947: ConvergenceWarning: Liblinear failed to converge, increase the number of iterations.\n",
      "  \"the number of iterations.\", ConvergenceWarning)\n"
     ]
    },
    {
     "data": {
      "text/plain": "0.11347142857142857"
     },
     "execution_count": 21,
     "metadata": {},
     "output_type": "execute_result"
    }
   ],
   "source": [
    "linear_svc_3 = LinearSVC(loss='hinge', C=1.0)\n",
    "linear_svc_3.fit(X_train, y_train)\n",
    "\n",
    "predicted_3 = linear_svc.predict(X_train)\n",
    "diffs_3 = y_train - predicted_3\n",
    "np.nonzero(diffs_3)[0].size / y.size"
   ],
   "metadata": {
    "collapsed": false,
    "pycharm": {
     "name": "#%%\n"
    }
   }
  },
  {
   "cell_type": "code",
   "execution_count": 22,
   "outputs": [],
   "source": [
    "def train_and_evaluate(C=0.01):\n",
    "    linear_svc = LinearSVC(loss='hinge', C=C)\n",
    "    linear_svc.fit(X_train, y_train)\n",
    "\n",
    "    predicted = linear_svc.predict(X_train)\n",
    "    diffs = y_train - predicted\n",
    "    print(\"Error:\", np.nonzero(diffs)[0].size / y.size, \"C:\", C)"
   ],
   "metadata": {
    "collapsed": false,
    "pycharm": {
     "name": "#%%\n"
    }
   }
  },
  {
   "cell_type": "code",
   "execution_count": 23,
   "outputs": [
    {
     "name": "stderr",
     "output_type": "stream",
     "text": [
      "/home/kamil/anaconda3/envs/ml-fundamentals-edx/lib/python3.7/site-packages/sklearn/svm/_base.py:947: ConvergenceWarning: Liblinear failed to converge, increase the number of iterations.\n",
      "  \"the number of iterations.\", ConvergenceWarning)\n",
      "/home/kamil/anaconda3/envs/ml-fundamentals-edx/lib/python3.7/site-packages/sklearn/svm/_base.py:947: ConvergenceWarning: Liblinear failed to converge, increase the number of iterations.\n",
      "  \"the number of iterations.\", ConvergenceWarning)\n",
      "/home/kamil/anaconda3/envs/ml-fundamentals-edx/lib/python3.7/site-packages/sklearn/svm/_base.py:947: ConvergenceWarning: Liblinear failed to converge, increase the number of iterations.\n",
      "  \"the number of iterations.\", ConvergenceWarning)\n",
      "/home/kamil/anaconda3/envs/ml-fundamentals-edx/lib/python3.7/site-packages/sklearn/svm/_base.py:947: ConvergenceWarning: Liblinear failed to converge, increase the number of iterations.\n",
      "  \"the number of iterations.\", ConvergenceWarning)\n",
      "/home/kamil/anaconda3/envs/ml-fundamentals-edx/lib/python3.7/site-packages/sklearn/svm/_base.py:947: ConvergenceWarning: Liblinear failed to converge, increase the number of iterations.\n",
      "  \"the number of iterations.\", ConvergenceWarning)\n"
     ]
    },
    {
     "name": "stdout",
     "output_type": "stream",
     "text": [
      "Error: 0.14662857142857144 C: 0.01\n",
      "Error: 0.13645714285714286 C: 0.1\n",
      "Error: 0.12044285714285714 C: 1.0\n",
      "Error: 0.09292857142857143 C: 10.0\n",
      "Error: 0.13044285714285714 C: 100.0\n"
     ]
    }
   ],
   "source": [
    "train_and_evaluate(0.01)\n",
    "train_and_evaluate(0.1)\n",
    "train_and_evaluate(1.0)\n",
    "train_and_evaluate(10.0)\n",
    "train_and_evaluate(100.0)\n",
    "\n"
   ],
   "metadata": {
    "collapsed": false,
    "pycharm": {
     "name": "#%%\n"
    }
   }
  },
  {
   "cell_type": "code",
   "execution_count": 26,
   "outputs": [],
   "source": [
    "from sklearn.svm import SVC\n",
    "\n",
    "def train_and_evaluate_svc():\n",
    "    svc = SVC(kernel='poly', degree=2)\n",
    "    svc.fit(X_train, y_train)\n",
    "\n",
    "    predicted = svc.predict(X_train)\n",
    "    diffs = y_train - predicted\n",
    "    print(\"Train error:\", np.nonzero(diffs)[0].size / y_train.size)\n",
    "\n",
    "    predicted_test = svc.predict(X_test)\n",
    "    diffs_test = y_test - predicted_test\n",
    "    print(\"Test error:\", np.nonzero(diffs_test)[0].size / y_test.size)"
   ],
   "metadata": {
    "collapsed": false,
    "pycharm": {
     "name": "#%%\n"
    }
   }
  },
  {
   "cell_type": "code",
   "execution_count": 27,
   "outputs": [
    {
     "name": "stdout",
     "output_type": "stream",
     "text": [
      "Train error: 0.012483333333333334\n",
      "Test error: 0.0226\n"
     ]
    }
   ],
   "source": [
    "train_and_evaluate_svc()\n"
   ],
   "metadata": {
    "collapsed": false,
    "pycharm": {
     "name": "#%%\n"
    }
   }
  }
 ],
 "metadata": {
  "kernelspec": {
   "display_name": "Python 3",
   "language": "python",
   "name": "python3"
  },
  "language_info": {
   "codemirror_mode": {
    "name": "ipython",
    "version": 2
   },
   "file_extension": ".py",
   "mimetype": "text/x-python",
   "name": "python",
   "nbconvert_exporter": "python",
   "pygments_lexer": "ipython2",
   "version": "2.7.6"
  }
 },
 "nbformat": 4,
 "nbformat_minor": 0
}