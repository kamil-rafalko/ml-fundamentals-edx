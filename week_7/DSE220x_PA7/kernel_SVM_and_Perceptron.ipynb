{
 "cells": [
  {
   "cell_type": "markdown",
   "metadata": {},
   "source": [
    "# Experiments with kernel machines"
   ]
  },
  {
   "cell_type": "markdown",
   "metadata": {},
   "source": [
    "In this notebook we will use simple two-dimensional data sets to illustrate the behavior of the support vector machine and the Perceptron, when used with quadratic and RBF kernels."
   ]
  },
  {
   "cell_type": "markdown",
   "metadata": {},
   "source": [
    "## 1. Basic training procedure"
   ]
  },
  {
   "cell_type": "code",
   "execution_count": 7,
   "metadata": {
    "collapsed": true
   },
   "outputs": [],
   "source": [
    "%matplotlib inline\n",
    "import numpy as np\n",
    "import matplotlib\n",
    "import matplotlib.pyplot as plt\n",
    "from sklearn.svm import SVC\n",
    "matplotlib.rc('xtick', labelsize=14) \n",
    "matplotlib.rc('ytick', labelsize=14)"
   ]
  },
  {
   "cell_type": "markdown",
   "metadata": {},
   "source": [
    "The directory containing this notebook should also contain two-dimensional data files, `data1.txt` through `data5.txt`. These files contain one data point per line, along with a label (either -1 or 1), like:\n",
    "* `3 8 -1` (meaning that point `x=(3,8)` has label `y=-1`)\n",
    "\n",
    "The next procedure, **learn_and_display_SVM**, loads one of these data sets, invokes `sklearn.SVC` to learn a classifier, and then displays the data as well as the boundary. It is invoked as follows:\n",
    "* `learn_and_display_SVM(datafile, kernel_type, C_value, s_value)`\n",
    "\n",
    "where\n",
    "* `datafile` is one of `'data1.txt'` through `'data5.txt'` (or another file in the same format)\n",
    "* `kernel_type` is either `'quadratic'` or `'rbf'`\n",
    "* `C_value` is the setting of the soft-margin parameter `C` (default: 1.0)\n",
    "* `s_value` (for the RBF kernel) is the scaling parameter `s` (default: 1.0)"
   ]
  },
  {
   "cell_type": "code",
   "execution_count": 8,
   "metadata": {
    "collapsed": true
   },
   "outputs": [],
   "source": [
    "def learn_and_display_SVM(datafile, kernel_type='rbf', C_value=1.0, s_value=1.0):\n",
    "    data = np.loadtxt(datafile)\n",
    "    n,d = data.shape\n",
    "    # Create training set x and labels y\n",
    "    x = data[:,0:2]\n",
    "    y = data[:,2]\n",
    "    # Now train a support vector machine and identify the support vectors\n",
    "    if kernel_type == 'rbf':\n",
    "        clf = SVC(kernel='rbf', C=C_value, gamma=1.0/(s_value*s_value))\n",
    "    if kernel_type == 'quadratic':\n",
    "        clf = SVC(kernel='poly', degree=2, C=C_value, coef0=1.0)\n",
    "    clf.fit(x,y)\n",
    "    sv = np.zeros(n,dtype=bool)\n",
    "    sv[clf.support_] = True\n",
    "    notsv = np.logical_not(sv)\n",
    "    # Determine the x1- and x2- limits of the plot\n",
    "    x1min = min(x[:,0]) - 1\n",
    "    x1max = max(x[:,0]) + 1\n",
    "    x2min = min(x[:,1]) - 1\n",
    "    x2max = max(x[:,1]) + 1\n",
    "    plt.xlim(x1min,x1max)\n",
    "    plt.ylim(x2min,x2max)\n",
    "    # Plot the data points, enlarging those that are support vectors\n",
    "    plt.plot(x[(y==1)*notsv,0], x[(y==1)*notsv,1], 'ro')\n",
    "    plt.plot(x[(y==1)*sv,0], x[(y==1)*sv,1], 'ro', markersize=10)\n",
    "    plt.plot(x[(y==-1)*notsv,0], x[(y==-1)*notsv,1], 'k^')\n",
    "    plt.plot(x[(y==-1)*sv,0], x[(y==-1)*sv,1], 'k^', markersize=10)\n",
    "    # Construct a grid of points and evaluate classifier at each grid points\n",
    "    grid_spacing = 0.05\n",
    "    xx1, xx2 = np.meshgrid(np.arange(x1min, x1max, grid_spacing), np.arange(x2min, x2max, grid_spacing))\n",
    "    grid = np.c_[xx1.ravel(), xx2.ravel()]\n",
    "    Z = clf.decision_function(grid)\n",
    "    # Quantize the values to -1, -0.5, 0, 0.5, 1 for display purposes\n",
    "    for i in range(len(Z)):\n",
    "        Z[i] = min(Z[i],1.0)\n",
    "        Z[i] = max(Z[i],-1.0)\n",
    "        if (Z[i] > 0.0) and (Z[i] < 1.0):\n",
    "            Z[i] = 0.5\n",
    "        if (Z[i] < 0.0) and (Z[i] > -1.0):\n",
    "            Z[i] = -0.5\n",
    "    # Show boundary and margin using a color plot\n",
    "    Z = Z.reshape(xx1.shape)\n",
    "    plt.pcolormesh(xx1, xx2, Z, cmap=plt.cm.PRGn, vmin=-2, vmax=2)\n",
    "    plt.show()"
   ]
  },
  {
   "cell_type": "markdown",
   "metadata": {},
   "source": [
    "## 2. Experiments with the quadratic kernel"
   ]
  },
  {
   "cell_type": "markdown",
   "metadata": {},
   "source": [
    "Let's try out SVM on some examples, starting with the quadratic kernel."
   ]
  },
  {
   "cell_type": "code",
   "execution_count": 9,
   "metadata": {},
   "outputs": [
    {
     "data": {
      "text/plain": "<Figure size 432x288 with 1 Axes>",
      "image/png": "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\n"
     },
     "metadata": {
      "needs_background": "light"
     },
     "output_type": "display_data"
    }
   ],
   "source": [
    "learn_and_display_SVM('data5.txt', 'quadratic', 10.0)"
   ]
  },
  {
   "cell_type": "markdown",
   "metadata": {},
   "source": [
    "Also try `data2.txt` through `data5.txt`. Also try changing the value of `C` (the third parameter) to see how that affects the boundary and margin."
   ]
  },
  {
   "cell_type": "markdown",
   "metadata": {},
   "source": [
    "## 3. Experiments with the RBF kernel"
   ]
  },
  {
   "cell_type": "markdown",
   "metadata": {},
   "source": [
    "Now experiment with the RBF kernel, on the same five data sets. This time there are two parameters to play with: `C` and `sigma`."
   ]
  },
  {
   "cell_type": "code",
   "execution_count": 10,
   "metadata": {},
   "outputs": [
    {
     "data": {
      "text/plain": "<Figure size 432x288 with 1 Axes>",
      "image/png": "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\n"
     },
     "metadata": {
      "needs_background": "light"
     },
     "output_type": "display_data"
    }
   ],
   "source": [
    "learn_and_display_SVM('data1.txt', 'rbf', 10.0, 10.0)"
   ]
  },
  {
   "cell_type": "markdown",
   "metadata": {},
   "source": [
    "## 4. The kernel Perceptron"
   ]
  },
  {
   "cell_type": "markdown",
   "metadata": {},
   "source": [
    "<font color=\"magenta\">**For you to do:**</font> Implement the kernel Perceptron algorithm as specified in lecture. Your algorithm should allow both the quadratic and RBF kernel, and should follow roughly the same signature as the SVM routine above:\n",
    "* `learn_and_display_Perceptron(datafile, kernel_type, s_value)`\n",
    "\n",
    "Recall that the Perceptron algorithm does not always converge; you will need to explicitly check for this."
   ]
  },
  {
   "cell_type": "code",
<<<<<<< Updated upstream
   "execution_count": 51,
=======
   "execution_count": 11,
>>>>>>> Stashed changes
   "metadata": {
    "collapsed": true
   },
   "outputs": [
    {
<<<<<<< Updated upstream
     "name": "stdout",
     "output_type": "stream",
     "text": [
      "Differences shape: (48400, 52, 2)\n",
      "Differences l2 shape: (48400, 52)\n",
      "Kernel values shape: (52, 48400)\n",
      "True\n",
      "1.0\n"
=======
     "ename": "ValueError",
     "evalue": "operands could not be broadcast together with shapes (52,2) (48400,2) ",
     "output_type": "error",
     "traceback": [
      "\u001B[0;31m---------------------------------------------------------------------------\u001B[0m",
      "\u001B[0;31mValueError\u001B[0m                                Traceback (most recent call last)",
      "\u001B[0;32m<ipython-input-11-e0cd27ca9519>\u001B[0m in \u001B[0;36m<module>\u001B[0;34m\u001B[0m\n\u001B[1;32m     83\u001B[0m     \u001B[0;32mreturn\u001B[0m \u001B[0mZ\u001B[0m\u001B[0;34m,\u001B[0m \u001B[0malfa\u001B[0m \u001B[0;34m*\u001B[0m \u001B[0my\u001B[0m\u001B[0;34m,\u001B[0m \u001B[0mkernel_values\u001B[0m\u001B[0;34m,\u001B[0m \u001B[0mb\u001B[0m\u001B[0;34m,\u001B[0m \u001B[0mZ_prim\u001B[0m\u001B[0;34m\u001B[0m\u001B[0;34m\u001B[0m\u001B[0m\n\u001B[1;32m     84\u001B[0m \u001B[0;34m\u001B[0m\u001B[0m\n\u001B[0;32m---> 85\u001B[0;31m \u001B[0mZ\u001B[0m\u001B[0;34m,\u001B[0m \u001B[0malfa\u001B[0m\u001B[0;34m,\u001B[0m \u001B[0mkernel_values\u001B[0m\u001B[0;34m,\u001B[0m \u001B[0mb\u001B[0m\u001B[0;34m,\u001B[0m \u001B[0mZ_prim\u001B[0m \u001B[0;34m=\u001B[0m \u001B[0mlearn_and_display_Perceptron\u001B[0m\u001B[0;34m(\u001B[0m\u001B[0;34m'data1.txt'\u001B[0m\u001B[0;34m,\u001B[0m \u001B[0;34m'rbf'\u001B[0m\u001B[0;34m,\u001B[0m \u001B[0;36m10.0\u001B[0m\u001B[0;34m)\u001B[0m\u001B[0;34m\u001B[0m\u001B[0;34m\u001B[0m\u001B[0m\n\u001B[0m\u001B[1;32m     86\u001B[0m \u001B[0;34m\u001B[0m\u001B[0m\n",
      "\u001B[0;32m<ipython-input-11-e0cd27ca9519>\u001B[0m in \u001B[0;36mlearn_and_display_Perceptron\u001B[0;34m(datafile, kernel_type, s_value)\u001B[0m\n\u001B[1;32m     57\u001B[0m         \u001B[0mkernel_values\u001B[0m \u001B[0;34m=\u001B[0m \u001B[0;34m(\u001B[0m\u001B[0;36m1\u001B[0m \u001B[0;34m+\u001B[0m \u001B[0mnp\u001B[0m\u001B[0;34m.\u001B[0m\u001B[0mdot\u001B[0m\u001B[0;34m(\u001B[0m\u001B[0mx\u001B[0m\u001B[0;34m,\u001B[0m \u001B[0mnp\u001B[0m\u001B[0;34m.\u001B[0m\u001B[0mtranspose\u001B[0m\u001B[0;34m(\u001B[0m\u001B[0mgrid\u001B[0m\u001B[0;34m)\u001B[0m\u001B[0;34m)\u001B[0m\u001B[0;34m)\u001B[0m \u001B[0;34m**\u001B[0m \u001B[0;36m2\u001B[0m\u001B[0;34m\u001B[0m\u001B[0;34m\u001B[0m\u001B[0m\n\u001B[1;32m     58\u001B[0m     \u001B[0;32melse\u001B[0m\u001B[0;34m:\u001B[0m\u001B[0;34m\u001B[0m\u001B[0;34m\u001B[0m\u001B[0m\n\u001B[0;32m---> 59\u001B[0;31m         \u001B[0mkernel_values\u001B[0m \u001B[0;34m=\u001B[0m \u001B[0mnp\u001B[0m\u001B[0;34m.\u001B[0m\u001B[0mexp\u001B[0m\u001B[0;34m(\u001B[0m\u001B[0mnp\u001B[0m\u001B[0;34m.\u001B[0m\u001B[0msum\u001B[0m\u001B[0;34m(\u001B[0m\u001B[0;34m(\u001B[0m\u001B[0mx\u001B[0m \u001B[0;34m-\u001B[0m \u001B[0mgrid\u001B[0m\u001B[0;34m)\u001B[0m \u001B[0;34m**\u001B[0m \u001B[0;36m2\u001B[0m\u001B[0;34m,\u001B[0m \u001B[0maxis\u001B[0m\u001B[0;34m=\u001B[0m\u001B[0;36m1\u001B[0m\u001B[0;34m)\u001B[0m \u001B[0;34m/\u001B[0m \u001B[0ms_value\u001B[0m \u001B[0;34m**\u001B[0m \u001B[0;36m2\u001B[0m\u001B[0;34m)\u001B[0m\u001B[0;34m\u001B[0m\u001B[0;34m\u001B[0m\u001B[0m\n\u001B[0m\u001B[1;32m     60\u001B[0m \u001B[0;34m\u001B[0m\u001B[0m\n\u001B[1;32m     61\u001B[0m     \u001B[0mprint\u001B[0m\u001B[0;34m(\u001B[0m\u001B[0;34m\"Kernel values shape:\"\u001B[0m\u001B[0;34m,\u001B[0m \u001B[0mkernel_values\u001B[0m\u001B[0;34m.\u001B[0m\u001B[0mshape\u001B[0m\u001B[0;34m)\u001B[0m\u001B[0;34m\u001B[0m\u001B[0;34m\u001B[0m\u001B[0m\n",
      "\u001B[0;31mValueError\u001B[0m: operands could not be broadcast together with shapes (52,2) (48400,2) "
>>>>>>> Stashed changes
     ]
    },
    {
     "data": {
      "text/plain": "<Figure size 432x288 with 1 Axes>",
<<<<<<< Updated upstream
      "image/png": "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\n"
=======
      "image/png": "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\n"
>>>>>>> Stashed changes
     },
     "metadata": {
      "needs_background": "light"
     },
     "output_type": "display_data"
    }
   ],
   "source": [
    "### \n",
    "### Any auxiliary functions that you need\n",
    "###\n",
    "\n",
    "def learn_and_display_Perceptron(datafile, kernel_type='rbf', s_value=1.0):\n",
    "    data = np.loadtxt(datafile)\n",
    "    n, d = data.shape\n",
    "\n",
    "    alfa = np.zeros(n)\n",
    "    b = 0\n",
    "\n",
    "    x = data[:, 0:2]\n",
    "    y = data[:, 2]\n",
    "\n",
    "    sv = np.full(n, False)\n",
    "\n",
    "    converged = True\n",
    "    for i in range(4000):\n",
    "        converged = True\n",
    "        permuted_indices = np.random.permutation(n)\n",
    "        for j in permuted_indices:\n",
    "            yj = y[j]\n",
    "            xj = x[j]\n",
    "            if kernel_type == 'quadratic':\n",
    "                if yj * (np.dot(y * alfa, ((1 + np.dot(x, xj)) ** 2)) + b) <= 0:\n",
    "                    converged = False\n",
    "                    alfa[j] = alfa[j] + 1\n",
    "                    b = b + yj\n",
    "                    sv[j] = True\n",
    "            else:\n",
    "                if yj * (np.dot(y * alfa, (np.exp(- np.sum((x - xj) ** 2, axis=1) / s_value ** 2))) + b) <= 0:\n",
    "                    converged = False\n",
    "                    alfa[j] = alfa[j] + 1\n",
    "                    b = b + yj\n",
    "                    sv[j] = True\n",
    "\n",
    "    notsv = np.logical_not(sv)\n",
    "\n",
    "    x1min = min(x[:,0]) - 1\n",
    "    x1max = max(x[:,0]) + 1\n",
    "    x2min = min(x[:,1]) - 1\n",
    "    x2max = max(x[:,1]) + 1\n",
    "    plt.xlim(x1min,x1max)\n",
    "    plt.ylim(x2min,x2max)\n",
    "\n",
    "    plt.plot(x[(y == 1) * notsv,0], x[(y==1)*notsv,1], 'ro')\n",
    "    plt.plot(x[(y == 1) * sv,0], x[(y==1)*sv,1], 'ro', markersize=10)\n",
    "    plt.plot(x[(y == -1) * notsv,0], x[(y==-1)*notsv,1], 'k^')\n",
    "    plt.plot(x[(y == -1) * sv,0], x[(y==-1)*sv,1], 'k^', markersize=10)\n",
    "\n",
    "    # Construct a grid of points and evaluate classifier at each grid points\n",
    "    grid_spacing = 0.05\n",
    "    xx1, xx2 = np.meshgrid(np.arange(x1min, x1max, grid_spacing), np.arange(x2min, x2max, grid_spacing))\n",
    "    grid = np.c_[xx1.ravel(), xx2.ravel()]\n",
    "\n",
    "    if kernel_type == 'quadratic':\n",
    "        kernel_values = (1 + np.dot(x, np.transpose(grid))) ** 2\n",
    "    else:\n",
    "        differences = (x - np.transpose(np.array([grid] * x.shape[0]), axes=[1, 0, 2]))\n",
    "        print(\"Differences shape:\", differences.shape)\n",
    "        differences_l2 = np.sum(differences ** 2, axis=2)\n",
    "        print(\"Differences l2 shape:\", differences_l2.shape)\n",
    "        kernel_values = np.transpose(np.exp(- differences_l2 / s_value ** 2))\n",
    "\n",
    "    print(\"Kernel values shape:\", kernel_values.shape)\n",
    "\n",
    "    Z = (np.dot(np.transpose(alfa * y), kernel_values) + b)\n",
    "    Z_prim = Z.copy()\n",
    "\n",
    "    for i in range(len(Z)):\n",
    "        Z[i] = min(Z[i],1.0)\n",
    "        Z[i] = max(Z[i],-1.0)\n",
    "        if (Z[i] > 0.0) and (Z[i] < 1.0):\n",
    "            Z[i] = 0.5\n",
    "        if (Z[i] < 0.0) and (Z[i] > -1.0):\n",
    "            Z[i] = -0.5\n",
    "    # Show boundary and margin using a color plot\n",
    "    Z = Z.reshape(xx1.shape)\n",
    "    plt.pcolormesh(xx1, xx2, Z, cmap=plt.cm.PRGn, vmin=-2, vmax=2)\n",
    "    plt.show()\n",
    "\n",
    "    ###\n",
    "    ### Your code\n",
    "    ###\n",
    "    print(converged)\n",
    "    print(alfa.max())\n",
    "    return Z, alfa * y, kernel_values, b, Z_prim\n",
    "\n",
    "Z, alfa, kernel_values, b, Z_prim = learn_and_display_Perceptron('data1.txt', 'rbf', 1.0)"
   ]
  },
  {
   "cell_type": "markdown",
   "metadata": {},
   "source": [
    "<font color=\"magenta\">Experiment with your routine, on the same five data sets.</font>"
   ]
  },
  {
   "cell_type": "code",
   "execution_count": 41,
   "outputs": [],
   "source": [
    "a = np.array([\n",
    "    [1, 2],\n",
    "    [3, 4],\n",
    "    [5, 6],\n",
    "    [7, 8]\n",
    "    ]\n",
    ")\n",
    "\n",
    "b = np.transpose(np.array([a] * 3), axes=[1, 0, 2])\n",
    "c = np.array([\n",
    "    [1, 1],\n",
    "    [2, 2],\n",
    "    [1, 1]]\n",
    "             )\n",
    "\n",
    "d = c - b"
   ],
   "metadata": {
    "collapsed": false,
    "pycharm": {
     "name": "#%%\n"
    }
   }
  }
 ],
 "metadata": {
  "kernelspec": {
   "name": "pycharm-5861d1c3",
   "language": "python",
   "display_name": "PyCharm (ml-fundamentals-edx)"
  },
  "language_info": {
   "codemirror_mode": {
    "name": "ipython",
    "version": 2
   },
   "file_extension": ".py",
   "mimetype": "text/x-python",
   "name": "python",
   "nbconvert_exporter": "python",
   "pygments_lexer": "ipython2",
   "version": "2.7.13"
  },
  "toc": {
   "colors": {
    "hover_highlight": "#DAA520",
    "navigate_num": "#000000",
    "navigate_text": "#333333",
    "running_highlight": "#FF0000",
    "selected_highlight": "#FFD700",
    "sidebar_border": "#EEEEEE",
    "wrapper_background": "#FFFFFF"
   },
   "moveMenuLeft": true,
   "nav_menu": {
    "height": "117px",
    "width": "252px"
   },
   "navigate_menu": true,
   "number_sections": false,
   "sideBar": true,
   "threshold": 4,
   "toc_cell": false,
   "toc_section_display": "block",
   "toc_window_display": false,
   "widenNotebook": false
  }
 },
 "nbformat": 4,
 "nbformat_minor": 1
}