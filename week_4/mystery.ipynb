{
 "cells": [
  {
   "cell_type": "code",
   "execution_count": 59,
   "metadata": {
    "collapsed": true
   },
   "outputs": [],
   "source": [
    "import numpy as np\n",
    "from numpy import genfromtxt\n",
    "\n",
    "data = genfromtxt(\"mystery.dat\", delimiter=',')\n",
    "\n",
    "x = np.array(data[:, :100]).astype(np.float32)\n",
    "y = np.array(data[:, 100:]).astype(np.float32)"
   ]
  },
  {
   "cell_type": "code",
   "execution_count": 60,
   "outputs": [
    {
     "name": "stdout",
     "output_type": "stream",
     "text": [
      "[[ 2  3  5  7 11 13 17 19 23 29 81]]\n",
      "[0.41158316 0.30716443 0.5761047  0.5096534  0.62038296 0.45012274\n",
      " 0.69405943 0.54244053 0.5879353  0.24002473 0.10475311]\n"
     ]
    }
   ],
   "source": [
    "from sklearn.linear_model import Lasso\n",
    "\n",
    "lasso = Lasso(alpha=0.4)\n",
    "\n",
    "lasso.fit(x, y)\n",
    "\n",
    "w = lasso.coef_\n",
    "\n",
    "print(np.array(np.nonzero(w)) + 1)\n",
    "print(w[np.nonzero(w)])"
   ],
   "metadata": {
    "collapsed": false,
    "pycharm": {
     "name": "#%%\n"
    }
   }
  }
 ],
 "metadata": {
  "kernelspec": {
   "display_name": "Python 3",
   "language": "python",
   "name": "python3"
  },
  "language_info": {
   "codemirror_mode": {
    "name": "ipython",
    "version": 2
   },
   "file_extension": ".py",
   "mimetype": "text/x-python",
   "name": "python",
   "nbconvert_exporter": "python",
   "pygments_lexer": "ipython2",
   "version": "2.7.6"
  }
 },
 "nbformat": 4,
 "nbformat_minor": 0
}