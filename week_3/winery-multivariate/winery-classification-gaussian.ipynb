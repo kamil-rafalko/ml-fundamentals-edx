{
 "cells": [
  {
   "cell_type": "markdown",
   "source": [
    "# Winery classification with the multivariate Gaussian"
   ],
   "metadata": {
    "collapsed": false
   }
  },
  {
   "cell_type": "markdown",
   "source": [
    "In this notebook, we return to winery classification, using the full set of 13 features."
   ],
   "metadata": {
    "collapsed": false
   }
  },
  {
   "cell_type": "markdown",
   "source": [
    "## 1. Load in the data "
   ],
   "metadata": {
    "collapsed": false
   }
  },
  {
   "cell_type": "markdown",
   "source": [
    "As usual, we start by loading in the Wine data set. Make sure the file `wine.data.txt` is in the same directory as this notebook.\n",
    "\n",
    "Recall that there are 178 data points, each with 13 features and a label (1,2,3). As before, we will divide this into a training set of 130 points and a test set of 48 points."
   ],
   "metadata": {
    "collapsed": false
   }
  },
  {
   "cell_type": "code",
   "execution_count": 89,
   "outputs": [],
   "source": [
    "# Standard includes\n",
    "%matplotlib inline\n",
    "import numpy as np\n",
    "import matplotlib.pyplot as plt\n",
    "# Useful module for dealing with the Gaussian density\n",
    "from scipy.stats import norm, multivariate_normal"
   ],
   "metadata": {
    "collapsed": false,
    "pycharm": {
     "name": "#%%\n"
    }
   }
  },
  {
   "cell_type": "code",
   "execution_count": 90,
   "outputs": [],
   "source": [
    "# Load data set.\n",
    "data = np.loadtxt('wine.data.txt', delimiter=',')\n",
    "# Names of features\n",
    "featurenames = ['Alcohol', 'Malic acid', 'Ash', 'Alcalinity of ash','Magnesium', 'Total phenols',\n",
    "                'Flavanoids', 'Nonflavanoid phenols', 'Proanthocyanins', 'Color intensity', 'Hue',\n",
    "                'OD280/OD315 of diluted wines', 'Proline']\n",
    "# Split 178 instances into training set (trainx, trainy) of size 130 and test set (testx, testy) of size 48\n",
    "np.random.seed(0)\n",
    "perm = np.random.permutation(178)\n",
    "trainx = data[perm[0:130],1:14]\n",
    "trainy = data[perm[0:130],0]\n",
    "testx = data[perm[130:178], 1:14]\n",
    "testy = data[perm[130:178],0]"
   ],
   "metadata": {
    "collapsed": false,
    "pycharm": {
     "name": "#%%\n"
    }
   }
  },
  {
   "cell_type": "markdown",
   "source": [
    "## 2. Fit a Gaussian generative model"
   ],
   "metadata": {
    "collapsed": false
   }
  },
  {
   "cell_type": "markdown",
   "source": [
    "We now define a function that fits a Gaussian generative model to the data.\n",
    "For each class (`j=1,2,3`), we have:\n",
    "* `pi[j]`: the class weight\n",
    "* `mu[j,:]`: the mean, a 13-dimensional vector\n",
    "* `sigma[j,:,:]`: the 13x13 covariance matrix\n",
    "\n",
    "This means that `pi` is a 4x1 array (Python arrays are indexed starting at zero, and we aren't using `j=0`), `mu` is a 4x13 array and `sigma` is a 4x13x13 array."
   ],
   "metadata": {
    "collapsed": false
   }
  },
  {
   "cell_type": "code",
   "execution_count": 91,
   "outputs": [],
   "source": [
    "def fit_generative_model(x,y):\n",
    "    k = 3  # labels 1,2,...,k\n",
    "    d = (x.shape)[1]  # number of features\n",
    "    mu = np.zeros((k+1,d))\n",
    "    sigma = np.zeros((k+1,d,d))\n",
    "    pi = np.zeros(k+1)\n",
    "    for label in range(1,k+1):\n",
    "        indices = (y == label)\n",
    "        mu[label] = np.mean(x[indices,:], axis=0)\n",
    "        sigma[label] = np.cov(x[indices,:], rowvar=0, bias=1)\n",
    "        pi[label] = float(sum(indices))/float(len(y))\n",
    "    return mu, sigma, pi"
   ],
   "metadata": {
    "collapsed": false,
    "pycharm": {
     "name": "#%%\n"
    }
   }
  },
  {
   "cell_type": "code",
   "execution_count": 92,
   "outputs": [],
   "source": [
    "# Fit a Gaussian generative model to the training data\n",
    "mu, sigma, pi = fit_generative_model(trainx,trainy)"
   ],
   "metadata": {
    "collapsed": false,
    "pycharm": {
     "name": "#%%\n"
    }
   }
  },
  {
   "cell_type": "markdown",
   "source": [
    "## 3. Use the model to make predictions on the test set"
   ],
   "metadata": {
    "collapsed": false
   }
  },
  {
   "cell_type": "markdown",
   "source": [
    "<font color=\"magenta\">**For you to do**</font>: Define a general purpose testing routine that takes as input:\n",
    "* the arrays `pi`, `mu`, `sigma` defining the generative model, as above\n",
    "* the test set (points `tx` and labels `ty`)\n",
    "* a list of features `features` (chosen from 0-12)\n",
    "\n",
    "It should return the number of mistakes made by the generative model on the test data, *when restricted to the specified features*. For instance, using the just three features 2 (`'Ash'`), 4 (`'Magnesium'`) and 6 (`'Flavanoids'`) results in 7 mistakes (out of 48 test points), so\n",
    "\n",
    "        `test_model(mu, sigma, pi, [2,4,6], testx, testy)`\n",
    "\n",
    "should print 7/48.\n",
    "\n",
    "**Hint:** The way you restrict attention to a subset of features is by choosing the corresponding coordinates of the full 13-dimensional mean and the appropriate submatrix of the full 13x13 covariance matrix."
   ],
   "metadata": {
    "collapsed": false
   }
  },
  {
   "cell_type": "code",
   "execution_count": 93,
   "outputs": [],
   "source": [
    "from math import exp\n",
    "\n",
    "# Now test the performance of a predictor based on a subset of features\n",
    "def test_model(mu, sigma, pi, features, tx, ty):\n",
    "    # print(\"Mu shape:\", mu.shape)\n",
    "    # print(\"Sigma shape:\", sigma.shape)\n",
    "    # print(\"Pi shape:\", pi.shape)\n",
    "    # print(\"X shape:\", tx.shape)\n",
    "    # print(\"Y shape:\", ty.shape)\n",
    "    # sigma = np.array([sigma[:, features, :][:, :, features]] * tx.shape[0])\n",
    "    # mu = np.array([mu[:, features]] * tx.shape[0])\n",
    "    # x = np.transpose(np.array([tx[:, features]] * mu.shape[1]), axes=[1, 0, 2])\n",
    "    # print(\"Mu shape:\", mu.shape)\n",
    "    # print(\"Sigma shape:\", sigma.shape)\n",
    "    # print(\"Pi shape:\", pi.shape)\n",
    "    # print(\"X shape:\", x.shape)\n",
    "    # c = 1 / (((2 * pi) ** (len(features) / 2)) * abs(sigma) ** (1 / 2))\n",
    "    # print(\"C shape\", c.shape)\n",
    "    # # p = c * exp(-(1 / 2) * np.transpose(x - mu) * np.negative(sigma) * (x - mu))\n",
    "    # print(np.transpose(x - mu).shape)\n",
    "    # print(np.dot(np.negative(sigma[1, 1, :, :]),(x - mu)[1, 1, :]).shape)\n",
    "    # print(np.dot(np.transpose(np.negative(sigma)), (x - mu)).shape)\n",
    "    # p = exp(-(1 / 2) * np.transpose(x - mu) * np.negative(sigma) * (x - mu))\n",
    "    # print(p.shape)\n",
    "\n",
    "    ### Your code goes here\n",
    "    sigma = sigma[:, features, :][:, :, features]\n",
    "    mu = mu[:, features]\n",
    "    x = tx[:, features]\n",
    "\n",
    "    p = np.zeros((tx.shape[0], mu.shape[0]))\n",
    "    for i in range(p.shape[0]):\n",
    "        for j in range(p.shape[1]):\n",
    "            if pi[j] != 0:\n",
    "                c = 1 / (((2 * pi[j]) ** (len(features) / 2)) * np.linalg.det(sigma[j]) ** (1 / 2))\n",
    "                exp_inside = -(1 / 2) * np.dot(\n",
    "                    np.dot(np.transpose(x[i] - mu[j]), np.negative(sigma[j])),\n",
    "                    (x[i] - mu[j])\n",
    "                )\n",
    "                pij = c * np.exp(exp_inside)\n",
    "                p[i][j] = np.prod(pij)\n",
    "\n",
    "    print(p)\n",
    "    print([np.argmax(item) for item in p])\n",
    "    ###\n"
   ],
   "metadata": {
    "collapsed": false,
    "pycharm": {
     "name": "#%%\n"
    }
   }
  },
  {
   "cell_type": "markdown",
   "source": [
    "### <font color=\"magenta\">Fast exercises</font>"
   ],
   "metadata": {
    "collapsed": false
   }
  },
  {
   "cell_type": "markdown",
   "source": [
    "*Note down the answers to these questions. You will need to enter them as part of this week's assignment.*"
   ],
   "metadata": {
    "collapsed": false
   }
  },
  {
   "cell_type": "markdown",
   "source": [
    "Exercise 1. How many errors are made on the test set when using the single feature 'Ash'?"
   ],
   "metadata": {
    "collapsed": false
   }
  },
  {
   "cell_type": "code",
   "execution_count": 94,
   "outputs": [
    {
     "name": "stdout",
     "output_type": "stream",
     "text": [
      "[[0.         6.4144254  3.2982084  8.58353555]\n",
      " [0.         6.41426742 3.27423935 8.58139757]\n",
      " [0.         6.41141908 3.27940422 8.57943023]\n",
      " [0.         6.4240154  3.27686813 8.58983041]\n",
      " [0.         6.41567875 3.30241096 8.58494201]\n",
      " [0.         6.4240154  3.27686813 8.58983041]\n",
      " [0.         6.41187091 3.27715164 8.57962225]\n",
      " [0.         6.41882349 3.3118362  8.58837613]\n",
      " [0.         6.41523735 3.30097244 8.58445019]\n",
      " [0.         6.41325622 3.27487881 8.5805991 ]\n",
      " [0.         6.41714473 3.30695309 8.5865555 ]\n",
      " [0.         6.42766993 3.33480968 8.59773294]\n",
      " [0.         6.41194    3.2876259  8.58055735]\n",
      " [0.         6.41187091 3.27715164 8.57962225]\n",
      " [0.         6.41187091 3.27715164 8.57962225]\n",
      " [0.         6.42595836 3.33059568 8.59594273]\n",
      " [0.         6.41663244 3.30540123 8.58599466]\n",
      " [0.         6.41187091 3.27715164 8.57962225]\n",
      " [0.         6.42139311 3.31887998 8.59112609]\n",
      " [0.         6.41567875 3.30241096 8.58494201]\n",
      " [0.         6.41164718 3.28568471 8.58014823]\n",
      " [0.         6.41692741 3.27395337 8.58361489]\n",
      " [0.         6.41692741 3.27395337 8.58361489]\n",
      " [0.         6.41212179 3.28865232 8.58079637]\n",
      " [0.         6.41141908 3.27940422 8.57943023]\n",
      " [0.         6.41745345 3.27403439 8.5840649 ]\n",
      " [0.         6.41159783 3.27820411 8.57948032]\n",
      " [0.         6.42282002 3.32263137 8.59263937]\n",
      " [0.         6.4154911  3.2739309  8.58240281]\n",
      " [0.         6.41594624 3.27390162 8.58278385]\n",
      " [0.         6.48571937 3.4602665  8.65679182]\n",
      " [0.         6.41745345 3.27403439 8.5840649 ]\n",
      " [0.         6.41325622 3.27487881 8.5805991 ]\n",
      " [0.         6.43337516 3.34838607 8.60365832]\n",
      " [0.         6.41212179 3.28865232 8.58079637]\n",
      " [0.         6.41194    3.2876259  8.58055735]\n",
      " [0.         6.42006095 3.31528176 8.58970503]\n",
      " [0.         6.41144869 3.28389218 8.57983097]\n",
      " [0.         6.41692741 3.27395337 8.58361489]\n",
      " [0.         6.41567875 3.30241096 8.58494201]\n",
      " [0.         6.43137825 3.34370427 8.60159067]\n",
      " [0.         6.41714473 3.30695309 8.5865555 ]\n",
      " [0.         6.41426742 3.27423935 8.58139757]\n",
      " [0.         6.44681513 3.29611495 8.61063509]\n",
      " [0.         6.44181083 3.29127624 8.60601957]\n",
      " [0.         6.41800313 3.27415219 8.5845379 ]\n",
      " [0.         6.42251352 3.27600685 8.58849314]\n",
      " [0.         6.41164718 3.28568471 8.58014823]]\n",
      "[3, 3, 3, 3, 3, 3, 3, 3, 3, 3, 3, 3, 3, 3, 3, 3, 3, 3, 3, 3, 3, 3, 3, 3, 3, 3, 3, 3, 3, 3, 3, 3, 3, 3, 3, 3, 3, 3, 3, 3, 3, 3, 3, 3, 3, 3, 3, 3]\n"
     ]
    }
   ],
   "source": [
    "test_model(mu, sigma, pi, [2], testx, testy)"
   ],
   "metadata": {
    "collapsed": false,
    "pycharm": {
     "name": "#%%\n"
    }
   }
  },
  {
   "cell_type": "markdown",
   "source": [
    "Exercise 2. How many errors when using 'Alcohol' and 'Ash'?"
   ],
   "metadata": {
    "collapsed": false
   }
  },
  {
   "cell_type": "code",
   "execution_count": 95,
   "outputs": [
    {
     "name": "stdout",
     "output_type": "stream",
     "text": [
      "[[ 0.         16.3601295   9.65558161 24.73198259]\n",
      " [ 0.         20.2955571   6.93136855 24.8107495 ]\n",
      " [ 0.         18.25126131  7.15639025 23.3121522 ]\n",
      " [ 0.         19.36067279  7.00654141 24.12763212]\n",
      " [ 0.         16.35047468  9.45003066 24.49604085]\n",
      " [ 0.         17.359053    7.53973567 22.97275197]\n",
      " [ 0.         18.73808763  7.0628168  23.61726818]\n",
      " [ 0.         16.35593632  9.21916796 24.24761433]\n",
      " [ 0.         18.15405553  7.20338873 23.23496053]\n",
      " [ 0.         20.62688869  6.92460907 25.07378023]\n",
      " [ 0.         16.50015135  8.39935207 23.36430262]\n",
      " [ 0.         16.38944008  9.60258793 24.77875259]\n",
      " [ 0.         22.94577096  7.01825201 27.01070743]\n",
      " [ 0.         16.4171662   8.63767691 23.48773963]\n",
      " [ 0.         17.31026333  7.50060412 22.93149635]\n",
      " [ 0.         26.1215905   7.39395658 29.75320783]\n",
      " [ 0.         20.15161564  6.99085379 24.56917901]\n",
      " [ 0.         16.35822249  8.96045344 23.80337484]\n",
      " [ 0.         16.50172845  8.4301928  23.41046399]\n",
      " [ 0.         16.50676098  8.37213489 23.33233942]\n",
      " [ 0.         18.01733261  7.21962782 23.17859276]\n",
      " [ 0.         16.45905161 10.45700424 25.40675695]\n",
      " [ 0.         21.19478201  6.92070009 25.59604276]\n",
      " [ 0.         22.94796151  7.02105059 27.00695203]\n",
      " [ 0.         18.7399686   7.0635517  23.61002781]\n",
      " [ 0.         39.53889714  8.70995256 44.05401766]\n",
      " [ 0.         16.75320419  7.95264976 22.99210868]\n",
      " [ 0.         16.58669293 10.81228543 26.37465362]\n",
      " [ 0.         16.51029194  8.41354773 23.25718845]\n",
      " [ 0.         25.3795466   7.14036728 29.48093634]\n",
      " [ 0.         17.64182667  7.68532974 23.12320166]\n",
      " [ 0.         18.64814144  7.0886498  23.59431476]\n",
      " [ 0.         18.2083181   7.16987549 23.30465126]\n",
      " [ 0.         16.68960742  8.15232443 23.20324456]\n",
      " [ 0.         16.69979462 11.38639369 26.94465994]\n",
      " [ 0.         16.34614076  9.06195783 23.98160143]\n",
      " [ 0.         17.83179768  7.31599737 23.08518221]\n",
      " [ 0.         27.95077863  7.43950371 31.8010268 ]\n",
      " [ 0.         21.19478201  6.92070009 25.59604276]\n",
      " [ 0.         27.86734141  7.49641536 31.56502737]\n",
      " [ 0.         16.89648325  7.89053285 23.03449235]\n",
      " [ 0.         17.82069831  7.30608608 23.08081492]\n",
      " [ 0.         16.3550134   9.68226649 24.53926178]\n",
      " [ 0.         25.66536908  7.16209457 30.02014157]\n",
      " [ 0.         20.67492292  6.96513631 25.26498707]\n",
      " [ 0.         20.29865019  6.93345038 24.84254272]\n",
      " [ 0.         16.39202413  9.94823216 24.71771035]\n",
      " [ 0.         16.60531551 11.05018895 26.45685551]]\n",
      "[3, 3, 3, 3, 3, 3, 3, 3, 3, 3, 3, 3, 3, 3, 3, 3, 3, 3, 3, 3, 3, 3, 3, 3, 3, 3, 3, 3, 3, 3, 3, 3, 3, 3, 3, 3, 3, 3, 3, 3, 3, 3, 3, 3, 3, 3, 3, 3]\n"
     ]
    }
   ],
   "source": [
    "test_model(mu, sigma, pi, [0,2], testx, testy)"
   ],
   "metadata": {
    "collapsed": false,
    "pycharm": {
     "name": "#%%\n"
    }
   }
  },
  {
   "cell_type": "markdown",
   "source": [
    "Exercise 3. How many errors when using 'Alcohol', 'Ash', and 'Flavanoids'?"
   ],
   "metadata": {
    "collapsed": false
   }
  },
  {
   "cell_type": "code",
   "execution_count": 96,
   "outputs": [
    {
     "name": "stdout",
     "output_type": "stream",
     "text": [
      "[[  0.          57.79703909  26.31134984 200.43327457]\n",
      " [  0.          86.90748985  11.04115857 150.59815426]\n",
      " [  0.          95.10791267  15.05967264 137.42103162]\n",
      " [  0.         129.05592739  21.98504182 142.28752707]\n",
      " [  0.          56.93507872  22.97299955 191.96485906]\n",
      " [  0.          61.3621013   12.46993156 151.79170065]\n",
      " [  0.          95.29711688  13.97878033 139.48317361]\n",
      " [  0.          56.38095502  16.23673512 170.09445024]\n",
      " [  0.         114.6153259   21.0212713  136.66749276]\n",
      " [  0.          76.81658388  11.18421141 161.02882388]\n",
      " [  0.          58.19116796  13.73457072 156.62588047]\n",
      " [  0.          56.29032024  18.35958439 180.58766316]\n",
      " [  0.          89.64545813  11.12116375 170.81582822]\n",
      " [  0.          56.38470926  18.04209297 173.1364905 ]\n",
      " [  0.          78.80915512  13.73320172 136.64542961]\n",
      " [  0.         105.03492796  11.70125589 188.03369267]\n",
      " [  0.         137.79492022  20.18770156 144.63190131]\n",
      " [  0.          56.72783224  15.02337608 161.93584998]\n",
      " [  0.          95.12685003  27.07119358 137.5471678 ]\n",
      " [  0.          68.29227554  14.27046254 141.4462616 ]\n",
      " [  0.         110.6811431   20.60022025 136.31344911]\n",
      " [  0.          57.78442199  16.29618646 164.78974358]\n",
      " [  0.          72.85340214  13.45599223 175.71646595]\n",
      " [  0.         110.170255    11.64611684 161.60901249]\n",
      " [  0.          67.77968977  11.65067337 154.93812838]\n",
      " [  0.         169.76198547  13.64421483 268.77825894]\n",
      " [  0.          91.09008783  21.54930122 135.14180328]\n",
      " [  0.          78.7795      29.25313113 155.0302155 ]\n",
      " [  0.          64.40900415  13.5639095  142.72649365]\n",
      " [  0.         137.97035802  13.10449118 173.65653413]\n",
      " [  0.          62.16177685  13.62718974 160.69793193]\n",
      " [  0.          67.59548296  11.54202557 153.34348049]\n",
      " [  0.         112.29621771  20.71946514 137.10023987]\n",
      " [  0.          83.5170373   18.1974641  136.92551684]\n",
      " [  0.          57.45222882  21.72007991 197.70019849]\n",
      " [  0.          57.92709975  26.96677832 197.12840057]\n",
      " [  0.         115.75797282  23.12122926 135.87959184]\n",
      " [  0.         135.02480037  11.962022   190.49848435]\n",
      " [  0.         122.38875141  15.14195736 150.32379414]\n",
      " [  0.         138.52826068  12.17471167 188.86345349]\n",
      " [  0.          59.20042028  13.64678168 158.32968933]\n",
      " [  0.          65.26584755  11.74779569 150.77471383]\n",
      " [  0.          56.32956481  19.38106755 179.97426729]\n",
      " [  0.         123.82809889  11.96627852 177.70747268]\n",
      " [  0.          85.11211069  10.94077571 153.70219563]\n",
      " [  0.          81.44793123  10.82110478 153.4468734 ]\n",
      " [  0.          57.1776215   22.57236665 188.34414241]\n",
      " [  0.          79.91337986  32.50266818 155.42039948]]\n",
      "[3, 3, 3, 3, 3, 3, 3, 3, 3, 3, 3, 3, 3, 3, 3, 3, 3, 3, 3, 3, 3, 3, 3, 3, 3, 3, 3, 3, 3, 3, 3, 3, 3, 3, 3, 3, 3, 3, 3, 3, 3, 3, 3, 3, 3, 3, 3, 3]\n"
     ]
    }
   ],
   "source": [
    "test_model(mu, sigma, pi, [0,2,6], testx, testy)"
   ],
   "metadata": {
    "collapsed": false,
    "pycharm": {
     "name": "#%%\n"
    }
   }
  },
  {
   "cell_type": "markdown",
   "source": [
    "Exercise 4. How many errors when using all 13 features?"
   ],
   "metadata": {
    "collapsed": false
   }
  },
  {
   "cell_type": "code",
   "execution_count": 97,
   "outputs": [
    {
     "name": "stdout",
     "output_type": "stream",
     "text": [
      "[[ 0. inf inf inf]\n",
      " [ 0. inf inf inf]\n",
      " [ 0. inf inf inf]\n",
      " [ 0. inf inf inf]\n",
      " [ 0. inf inf inf]\n",
      " [ 0. inf inf inf]\n",
      " [ 0. inf inf inf]\n",
      " [ 0. inf inf inf]\n",
      " [ 0. inf inf inf]\n",
      " [ 0. inf inf inf]\n",
      " [ 0. inf inf inf]\n",
      " [ 0. inf inf inf]\n",
      " [ 0. inf inf inf]\n",
      " [ 0. inf inf inf]\n",
      " [ 0. inf inf inf]\n",
      " [ 0. inf inf inf]\n",
      " [ 0. inf inf inf]\n",
      " [ 0. inf inf inf]\n",
      " [ 0. inf inf inf]\n",
      " [ 0. inf inf inf]\n",
      " [ 0. inf inf inf]\n",
      " [ 0. inf inf inf]\n",
      " [ 0. inf inf inf]\n",
      " [ 0. inf inf inf]\n",
      " [ 0. inf inf inf]\n",
      " [ 0. inf inf inf]\n",
      " [ 0. inf inf inf]\n",
      " [ 0. inf inf inf]\n",
      " [ 0. inf inf inf]\n",
      " [ 0. inf inf inf]\n",
      " [ 0. inf inf inf]\n",
      " [ 0. inf inf inf]\n",
      " [ 0. inf inf inf]\n",
      " [ 0. inf inf inf]\n",
      " [ 0. inf inf inf]\n",
      " [ 0. inf inf inf]\n",
      " [ 0. inf inf inf]\n",
      " [ 0. inf inf inf]\n",
      " [ 0. inf inf inf]\n",
      " [ 0. inf inf inf]\n",
      " [ 0. inf inf inf]\n",
      " [ 0. inf inf inf]\n",
      " [ 0. inf inf inf]\n",
      " [ 0. inf inf inf]\n",
      " [ 0. inf inf inf]\n",
      " [ 0. inf inf inf]\n",
      " [ 0. inf inf inf]\n",
      " [ 0. inf inf inf]]\n",
      "[1, 1, 1, 1, 1, 1, 1, 1, 1, 1, 1, 1, 1, 1, 1, 1, 1, 1, 1, 1, 1, 1, 1, 1, 1, 1, 1, 1, 1, 1, 1, 1, 1, 1, 1, 1, 1, 1, 1, 1, 1, 1, 1, 1, 1, 1, 1, 1]\n"
     ]
    },
    {
     "name": "stderr",
     "output_type": "stream",
     "text": [
      "/Users/kamil.rafalko/.conda/envs/hands-on-machine-learning/lib/python3.7/site-packages/ipykernel_launcher.py:40: RuntimeWarning: overflow encountered in exp\n"
     ]
    }
   ],
   "source": [
    "test_model(mu, sigma, pi, range(0,13), testx, testy)"
   ],
   "metadata": {
    "collapsed": false,
    "pycharm": {
     "name": "#%%\n"
    }
   }
  },
  {
   "cell_type": "markdown",
   "source": [
    "Exercise 5. In lecture, we got somewhat different answers to these questions. Why do you think that might be?"
   ],
   "metadata": {
    "collapsed": false
   }
  },
  {
   "cell_type": "code",
   "execution_count": 97,
   "outputs": [],
   "source": [],
   "metadata": {
    "collapsed": false,
    "pycharm": {
     "name": "#%%\n"
    }
   }
  }
 ],
 "metadata": {
  "kernelspec": {
   "name": "python3",
   "language": "python",
   "display_name": "Python 3"
  },
  "language_info": {
   "codemirror_mode": {
    "name": "ipython",
    "version": 2
   },
   "file_extension": ".py",
   "mimetype": "text/x-python",
   "name": "python",
   "nbconvert_exporter": "python",
   "pygments_lexer": "ipython2",
   "version": "2.7.13"
  },
  "toc": {
   "colors": {
    "hover_highlight": "#DAA520",
    "navigate_num": "#000000",
    "navigate_text": "#333333",
    "running_highlight": "#FF0000",
    "selected_highlight": "#FFD700",
    "sidebar_border": "#EEEEEE",
    "wrapper_background": "#FFFFFF"
   },
   "moveMenuLeft": true,
   "nav_menu": {
    "height": "12px",
    "width": "252px"
   },
   "navigate_menu": true,
   "number_sections": false,
   "sideBar": true,
   "threshold": 4,
   "toc_cell": false,
   "toc_section_display": "block",
   "toc_window_display": false,
   "widenNotebook": false
  }
 },
 "nbformat": 4,
 "nbformat_minor": 1
}