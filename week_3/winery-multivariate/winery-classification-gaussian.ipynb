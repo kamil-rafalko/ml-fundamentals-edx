{
 "cells": [
  {
   "cell_type": "markdown",
   "source": [
    "# Winery classification with the multivariate Gaussian"
   ],
   "metadata": {
    "collapsed": false
   }
  },
  {
   "cell_type": "markdown",
   "source": [
    "In this notebook, we return to winery classification, using the full set of 13 features."
   ],
   "metadata": {
    "collapsed": false
   }
  },
  {
   "cell_type": "markdown",
   "source": [
    "## 1. Load in the data "
   ],
   "metadata": {
    "collapsed": false
   }
  },
  {
   "cell_type": "markdown",
   "source": [
    "As usual, we start by loading in the Wine data set. Make sure the file `wine.data.txt` is in the same directory as this notebook.\n",
    "\n",
    "Recall that there are 178 data points, each with 13 features and a label (1,2,3). As before, we will divide this into a training set of 130 points and a test set of 48 points."
   ],
   "metadata": {
    "collapsed": false
   }
  },
  {
   "cell_type": "code",
   "execution_count": 55,
   "outputs": [],
   "source": [
    "# Standard includes\n",
    "%matplotlib inline\n",
    "import numpy as np\n",
    "import matplotlib.pyplot as plt\n",
    "# Useful module for dealing with the Gaussian density\n",
    "from scipy.stats import norm, multivariate_normal"
   ],
   "metadata": {
    "collapsed": false,
    "pycharm": {
     "name": "#%%\n"
    }
   }
  },
  {
   "cell_type": "code",
   "execution_count": 56,
   "outputs": [],
   "source": [
    "# Load data set.\n",
    "data = np.loadtxt('wine.data.txt', delimiter=',')\n",
    "# Names of features\n",
    "featurenames = ['Alcohol', 'Malic acid', 'Ash', 'Alcalinity of ash','Magnesium', 'Total phenols',\n",
    "                'Flavanoids', 'Nonflavanoid phenols', 'Proanthocyanins', 'Color intensity', 'Hue',\n",
    "                'OD280/OD315 of diluted wines', 'Proline']\n",
    "# Split 178 instances into training set (trainx, trainy) of size 130 and test set (testx, testy) of size 48\n",
    "np.random.seed(0)\n",
    "perm = np.random.permutation(178)\n",
    "trainx = data[perm[0:130],1:14]\n",
    "trainy = data[perm[0:130],0]\n",
    "testx = data[perm[130:178], 1:14]\n",
    "testy = data[perm[130:178],0]"
   ],
   "metadata": {
    "collapsed": false,
    "pycharm": {
     "name": "#%%\n"
    }
   }
  },
  {
   "cell_type": "markdown",
   "source": [
    "## 2. Fit a Gaussian generative model"
   ],
   "metadata": {
    "collapsed": false
   }
  },
  {
   "cell_type": "markdown",
   "source": [
    "We now define a function that fits a Gaussian generative model to the data.\n",
    "For each class (`j=1,2,3`), we have:\n",
    "* `pi[j]`: the class weight\n",
    "* `mu[j,:]`: the mean, a 13-dimensional vector\n",
    "* `sigma[j,:,:]`: the 13x13 covariance matrix\n",
    "\n",
    "This means that `pi` is a 4x1 array (Python arrays are indexed starting at zero, and we aren't using `j=0`), `mu` is a 4x13 array and `sigma` is a 4x13x13 array."
   ],
   "metadata": {
    "collapsed": false
   }
  },
  {
   "cell_type": "code",
   "execution_count": 57,
   "outputs": [],
   "source": [
    "def fit_generative_model(x,y):\n",
    "    k = 3  # labels 1,2,...,k\n",
    "    d = (x.shape)[1]  # number of features\n",
    "    mu = np.zeros((k+1,d))\n",
    "    sigma = np.zeros((k+1,d,d))\n",
    "    pi = np.zeros(k+1)\n",
    "    for label in range(1,k+1):\n",
    "        indices = (y == label)\n",
    "        mu[label] = np.mean(x[indices,:], axis=0)\n",
    "        sigma[label] = np.cov(x[indices,:], rowvar=0, bias=1)\n",
    "        pi[label] = float(sum(indices))/float(len(y))\n",
    "    return mu, sigma, pi"
   ],
   "metadata": {
    "collapsed": false,
    "pycharm": {
     "name": "#%%\n"
    }
   }
  },
  {
   "cell_type": "code",
   "execution_count": 58,
   "outputs": [],
   "source": [
    "# Fit a Gaussian generative model to the training data\n",
    "mu, sigma, pi = fit_generative_model(trainx,trainy)"
   ],
   "metadata": {
    "collapsed": false,
    "pycharm": {
     "name": "#%%\n"
    }
   }
  },
  {
   "cell_type": "markdown",
   "source": [
    "## 3. Use the model to make predictions on the test set"
   ],
   "metadata": {
    "collapsed": false
   }
  },
  {
   "cell_type": "markdown",
   "source": [
    "<font color=\"magenta\">**For you to do**</font>: Define a general purpose testing routine that takes as input:\n",
    "* the arrays `pi`, `mu`, `sigma` defining the generative model, as above\n",
    "* the test set (points `tx` and labels `ty`)\n",
    "* a list of features `features` (chosen from 0-12)\n",
    "\n",
    "It should return the number of mistakes made by the generative model on the test data, *when restricted to the specified features*. For instance, using the just three features 2 (`'Ash'`), 4 (`'Magnesium'`) and 6 (`'Flavanoids'`) results in 7 mistakes (out of 48 test points), so\n",
    "\n",
    "        `test_model(mu, sigma, pi, [2,4,6], testx, testy)`\n",
    "\n",
    "should print 7/48.\n",
    "\n",
    "**Hint:** The way you restrict attention to a subset of features is by choosing the corresponding coordinates of the full 13-dimensional mean and the appropriate submatrix of the full 13x13 covariance matrix."
   ],
   "metadata": {
    "collapsed": false
   }
  },
  {
   "cell_type": "code",
   "execution_count": 59,
   "outputs": [],
   "source": [
    "from math import exp\n",
    "\n",
    "# Now test the performance of a predictor based on a subset of features\n",
    "def test_model(mu, sigma, pi, features, tx, ty):\n",
    "    # print(\"Mu shape:\", mu.shape)\n",
    "    # print(\"Sigma shape:\", sigma.shape)\n",
    "    # print(\"Pi shape:\", pi.shape)\n",
    "    # print(\"X shape:\", tx.shape)\n",
    "    # print(\"Y shape:\", ty.shape)\n",
    "    # sigma = np.array([sigma[:, features, :][:, :, features]] * tx.shape[0])\n",
    "    # mu = np.array([mu[:, features]] * tx.shape[0])\n",
    "    # x = np.transpose(np.array([tx[:, features]] * mu.shape[1]), axes=[1, 0, 2])\n",
    "    # print(\"Mu shape:\", mu.shape)\n",
    "    # print(\"Sigma shape:\", sigma.shape)\n",
    "    # print(\"Pi shape:\", pi.shape)\n",
    "    # print(\"X shape:\", x.shape)\n",
    "    # c = 1 / (((2 * pi) ** (len(features) / 2)) * abs(sigma) ** (1 / 2))\n",
    "    # print(\"C shape\", c.shape)\n",
    "    # # p = c * exp(-(1 / 2) * np.transpose(x - mu) * np.negative(sigma) * (x - mu))\n",
    "    # print(np.transpose(x - mu).shape)\n",
    "    # print(np.dot(np.negative(sigma[1, 1, :, :]),(x - mu)[1, 1, :]).shape)\n",
    "    # print(np.dot(np.transpose(np.negative(sigma)), (x - mu)).shape)\n",
    "    # p = exp(-(1 / 2) * np.transpose(x - mu) * np.negative(sigma) * (x - mu))\n",
    "    # print(p.shape)\n",
    "\n",
    "    ### Your code goes here\n",
    "    sigma = sigma[:, features, :][:, :, features]\n",
    "    mu = mu[:, features]\n",
    "    x = tx[:, features]\n",
    "    #\n",
    "    # p = np.zeros((tx.shape[0], mu.shape[0]))\n",
    "    # for i in range(p.shape[0]):\n",
    "    #     for j in range(p.shape[1]):\n",
    "    #         if pi[j] != 0:\n",
    "    #             c = 1 / (((2 * pi[j]) ** (len(features) / 2)) * np.linalg.det(sigma[j]) ** (1 / 2))\n",
    "    #             exp_inside = -(1 / 2) * np.dot(\n",
    "    #                 np.dot(np.transpose(x[i] - mu[j]), np.negative(sigma[j])),\n",
    "    #                 (x[i] - mu[j])\n",
    "    #             )\n",
    "    #             pij = c * np.exp(exp_inside)\n",
    "    #             p[i][j] = np.prod(pij)\n",
    "    #             # p[i][j] = pij\n",
    "    #\n",
    "    # print(p)\n",
    "    # print([np.argmax(item) for item in p])\n",
    "\n",
    "    k = 3 # Labels 1,2,...,k\n",
    "    nt = len(testy) # Number of test points\n",
    "    score = np.zeros((nt,k+1))\n",
    "    for i in range(0, nt):\n",
    "        for label in range(1, k+1):\n",
    "            score[i,label] = np.log(pi[label]) + \\\n",
    "            multivariate_normal.logpdf(testx[i,features], mean=mu[label,:], cov=sigma[label,:,:])\n",
    "    predictions = np.argmax(score[:,1:4], axis=1) + 1\n",
    "    print(score)\n",
    "    errors = np.sum(predictions != testy)\n",
    "    print(\"Errors: \" + str(errors) + \"/\" + str(nt))# Now test the performance of a predictor based on a subset of features\n",
    "    ###"
   ],
   "metadata": {
    "collapsed": false,
    "pycharm": {
     "name": "#%%\n"
    }
   }
  },
  {
   "cell_type": "code",
   "execution_count": 60,
   "outputs": [
    {
     "name": "stdout",
     "output_type": "stream",
     "text": [
      "[[  0.          -5.48257747  -7.02873026 -80.49547062]\n",
      " [  0.          -8.70140905  -5.24238654 -20.62158301]\n",
      " [  0.         -15.56066682  -6.56581995  -4.44393313]\n",
      " [  0.         -25.20590543  -7.26695912  -5.19783691]\n",
      " [  0.          -4.75340437  -7.16251889 -64.44023941]\n",
      " [  0.          -5.52127754  -5.57689091 -51.82889197]\n",
      " [  0.         -14.67819752  -6.29121236  -5.19373703]\n",
      " [  0.          -4.77453137  -6.46508409 -36.51244011]\n",
      " [  0.         -22.83101327  -9.07386441  -5.02412607]\n",
      " [  0.          -5.67219331  -5.28040598 -41.18253445]\n",
      " [  0.          -5.00053993  -6.04951992 -29.15750168]\n",
      " [  0.          -5.58443781  -6.76127548 -44.46333078]\n",
      " [  0.          -7.14604249  -5.7260823  -32.62737505]\n",
      " [  0.          -3.78967877  -6.27102392 -65.27092605]\n",
      " [  0.         -13.25742466  -6.19480797  -7.0883189 ]\n",
      " [  0.          -8.29865651  -6.66586064 -25.0943759 ]\n",
      " [  0.         -23.26062377  -9.38033499  -5.42111763]\n",
      " [  0.          -3.98377535  -5.46762131 -42.79908048]\n",
      " [  0.         -24.73794365 -10.20352595  -7.20248198]\n",
      " [  0.         -12.67309547  -7.30920508  -7.96382877]\n",
      " [  0.         -22.17827518  -8.46901679  -4.16270853]\n",
      " [  0.          -5.80364128  -5.13045201 -35.9161707 ]\n",
      " [  0.          -5.22638584  -5.95141235 -69.44301731]\n",
      " [  0.         -12.7029527   -6.71894334 -15.41539999]\n",
      " [  0.          -4.30169795  -5.32258205 -37.20199769]\n",
      " [  0.          -7.47429532  -5.25565789 -34.68700576]\n",
      " [  0.         -20.12634043  -7.44710888  -3.43942459]\n",
      " [  0.         -21.27820913  -9.46104298  -5.99008837]\n",
      " [  0.          -9.07806881  -5.28786167 -22.27176459]\n",
      " [  0.         -14.73583607  -6.06688057  -8.00271883]\n",
      " [  0.         -12.6507193  -10.09266814 -30.91995007]\n",
      " [  0.          -6.00278972  -5.40285044 -48.6036238 ]\n",
      " [  0.         -21.96217213  -7.56279004  -3.78632809]\n",
      " [  0.         -19.86298483  -9.76643025  -7.72184612]\n",
      " [  0.          -5.70989463  -7.38725723 -47.06073083]\n",
      " [  0.          -5.19625585  -7.42137366 -86.12667495]\n",
      " [  0.         -24.93761094 -10.14829181  -6.99427124]\n",
      " [  0.         -10.49828417  -6.02362553 -15.96200026]\n",
      " [  0.         -17.57801253  -6.29919729  -5.35511839]\n",
      " [  0.         -11.36335707  -6.67355214 -12.20394733]\n",
      " [  0.          -6.21516459  -6.87420077 -32.42420005]\n",
      " [  0.          -5.47655386  -5.88017477 -27.55330945]\n",
      " [  0.          -4.18888568  -6.11836472 -70.24185437]\n",
      " [  0.         -14.0473284   -5.72153566 -27.66244129]\n",
      " [  0.         -11.63296922  -5.86316597 -41.26120595]\n",
      " [  0.          -7.57983379  -5.32420579 -25.25950233]\n",
      " [  0.          -5.38909811  -7.10971508 -89.06117797]\n",
      " [  0.         -21.06194813  -8.11991426  -3.6617725 ]]\n",
      "Errors: 7/48\n"
     ]
    }
   ],
   "source": [
    "test_model(mu, sigma, pi, [2,4,6], testx, testy)"
   ],
   "metadata": {
    "collapsed": false,
    "pycharm": {
     "name": "#%%\n"
    }
   }
  },
  {
   "cell_type": "markdown",
   "source": [
    "### <font color=\"magenta\">Fast exercises</font>"
   ],
   "metadata": {
    "collapsed": false
   }
  },
  {
   "cell_type": "markdown",
   "source": [
    "*Note down the answers to these questions. You will need to enter them as part of this week's assignment.*"
   ],
   "metadata": {
    "collapsed": false
   }
  },
  {
   "cell_type": "markdown",
   "source": [
    "Exercise 1. How many errors are made on the test set when using the single feature 'Ash'?"
   ],
   "metadata": {
    "collapsed": false
   }
  },
  {
   "cell_type": "code",
   "execution_count": 61,
   "outputs": [
    {
     "name": "stdout",
     "output_type": "stream",
     "text": [
      "[[  0.          -0.73103155  -1.29075971  -1.14761825]\n",
      " [  0.          -0.71281882  -0.71242668  -0.79974203]\n",
      " [  0.          -0.38438893  -0.83740347  -0.47955322]\n",
      " [  0.          -1.83571576  -0.77606112  -2.17137311]\n",
      " [  0.          -0.87550022  -1.39172724  -1.3764216 ]\n",
      " [  0.          -1.83571576  -0.77606112  -2.17137311]\n",
      " [  0.          -0.43649757  -0.78292091  -0.51080773]\n",
      " [  0.          -1.23785764  -1.61770454  -1.93492599]\n",
      " [  0.          -0.82462474  -1.35718094  -1.29641686]\n",
      " [  0.          -0.59623838  -0.72791067  -0.66979803]\n",
      " [  0.          -1.04444226  -1.50070885  -1.63885751]\n",
      " [  0.          -2.25625273  -2.16582811  -3.45552555]\n",
      " [  0.          -0.44446564  -1.03594161  -0.66300357]\n",
      " [  0.          -0.43649757  -0.78292091  -0.51080773]\n",
      " [  0.          -0.43649757  -0.78292091  -0.51080773]\n",
      " [  0.          -2.0593276   -2.06556965  -3.16472278]\n",
      " [  0.          -0.98540898  -1.46349119  -1.54764192]\n",
      " [  0.          -0.43649757  -0.78292091  -0.51080773]\n",
      " [  0.          -1.53381449  -1.78616514  -2.38200129]\n",
      " [  0.          -0.87550022  -1.39172724  -1.3764216 ]\n",
      " [  0.          -0.4106962   -0.98911036  -0.59641789]\n",
      " [  0.          -1.01939975  -0.70550093  -1.16052771]\n",
      " [  0.          -1.01939975  -0.70550093  -1.16052771]\n",
      " [  0.          -0.46542925  -1.06069292  -0.70190184]\n",
      " [  0.          -0.38438893  -0.83740347  -0.47955322]\n",
      " [  0.          -1.08001399  -0.70746322  -1.23373799]\n",
      " [  0.          -0.40500473  -0.80838128  -0.48770657]\n",
      " [  0.          -1.69810848  -1.87573816  -2.62796064]\n",
      " [  0.          -0.85387261  -0.70495676  -0.96331859]\n",
      " [  0.          -0.90632906  -0.7042477   -1.02531801]\n",
      " [  0.          -8.90427822  -5.09403484 -13.01532707]\n",
      " [  0.          -1.08001399  -0.70746322  -1.23373799]\n",
      " [  0.          -0.59623838  -0.72791067  -0.66979803]\n",
      " [  0.          -2.91229041  -2.48797439  -4.41762072]\n",
      " [  0.          -0.46542925  -1.06069292  -0.70190184]\n",
      " [  0.          -0.44446564  -1.03594161  -0.66300357]\n",
      " [  0.          -1.38039754  -1.70015393  -2.15098974]\n",
      " [  0.          -0.38780382  -0.94584091  -0.54478002]\n",
      " [  0.          -1.01939975  -0.70550093  -1.16052771]\n",
      " [  0.          -0.87550022  -1.39172724  -1.3764216 ]\n",
      " [  0.          -2.68273414  -2.37703048  -4.08197452]\n",
      " [  0.          -1.04444226  -1.50070885  -1.63885751]\n",
      " [  0.          -0.71281882  -0.71242668  -0.79974203]\n",
      " [  0.          -4.45543975  -1.24041611  -5.54957731]\n",
      " [  0.          -3.88123288  -1.12393161  -4.80082811]\n",
      " [  0.          -1.14334749  -0.71031597  -1.31068522]\n",
      " [  0.          -1.66282132  -0.75521791  -1.95395047]\n",
      " [  0.          -0.4106962   -0.98911036  -0.59641789]]\n",
      "Errors: 29/48\n"
     ]
    }
   ],
   "source": [
    "test_model(mu, sigma, pi, [2], testx, testy)"
   ],
   "metadata": {
    "collapsed": false,
    "pycharm": {
     "name": "#%%\n"
    }
   }
  },
  {
   "cell_type": "markdown",
   "source": [
    "Exercise 2. How many errors when using 'Alcohol' and 'Ash'?"
   ],
   "metadata": {
    "collapsed": false
   }
  },
  {
   "cell_type": "code",
   "execution_count": 62,
   "outputs": [
    {
     "name": "stdout",
     "output_type": "stream",
     "text": [
      "[[  0.          -0.94818676  -6.85570347  -2.09919089]\n",
      " [  0.          -5.00601469  -1.00386119  -1.8736436 ]\n",
      " [  0.          -2.63004071  -1.67591558  -0.9759381 ]\n",
      " [  0.          -5.3302276   -1.13460671  -2.74525036]\n",
      " [  0.          -1.07485002  -6.70874513  -2.18726371]\n",
      " [  0.          -3.23530225  -1.99253027  -2.45989487]\n",
      " [  0.          -3.19039042  -1.39475426  -1.13069034]\n",
      " [  0.          -1.42836675  -6.6927836   -2.57566739]\n",
      " [  0.          -2.85570543  -2.42106558  -1.9233009 ]\n",
      " [  0.          -5.17191079  -1.00399442  -1.91375844]\n",
      " [  0.          -1.37058252  -5.09730131  -1.99168773]\n",
      " [  0.          -2.47974152  -8.11425869  -4.14784858]\n",
      " [  0.          -6.82362226  -1.33541577  -3.27831578]\n",
      " [  0.          -0.7237938   -4.24777887  -1.14322305]\n",
      " [  0.          -1.71724904  -2.27411393  -0.79221008]\n",
      " [  0.         -10.47968785  -2.53882784  -8.00859602]\n",
      " [  0.          -4.87584704  -1.86890578  -3.12431524]\n",
      " [  0.          -0.65395121  -4.75386814  -1.32202315]\n",
      " [  0.          -1.84171232  -5.5507399   -2.71376643]\n",
      " [  0.          -1.21628946  -4.88952891  -1.73482574]\n",
      " [  0.          -2.3783563   -2.02072945  -1.07571943]\n",
      " [  0.          -1.30552785  -6.35374623  -3.14127529]\n",
      " [  0.          -6.16244721  -0.96998489  -2.48007182]\n",
      " [  0.          -6.83678585  -1.35845578  -3.34104841]\n",
      " [  0.          -3.11823408  -1.47103677  -1.13687564]\n",
      " [  0.         -17.86363894  -4.05884049  -8.84838281]\n",
      " [  0.          -1.07056075  -3.15729569  -0.81720299]\n",
      " [  0.          -2.19524604  -9.49013268  -3.9891712 ]\n",
      " [  0.          -1.25779329  -3.56724259  -1.56327247]\n",
      " [  0.          -9.40132279  -1.37728509  -3.99926279]\n",
      " [  0.         -10.00344079  -7.48342549 -13.90590179]\n",
      " [  0.          -3.82041824  -1.26766346  -1.69903277]\n",
      " [  0.          -2.8448374   -1.5191547   -1.08884103]\n",
      " [  0.          -3.34945907  -5.88883868  -4.69445517]\n",
      " [  0.          -1.07791776  -8.77343376  -2.77776365]\n",
      " [  0.          -0.64181762  -5.4757443   -1.39676694]\n",
      " [  0.          -3.03660869  -3.08340868  -2.71988004]\n",
      " [  0.         -10.43020023  -1.86210283  -5.19043993]\n",
      " [  0.          -6.16244721  -0.96998489  -2.48007182]\n",
      " [  0.         -10.66997124  -2.1758907   -6.49799363]\n",
      " [  0.          -3.32983164  -5.1963125   -4.38986724]\n",
      " [  0.          -2.71970206  -2.83637911  -2.16717863]\n",
      " [  0.          -0.91020034  -5.51195824  -2.16515224]\n",
      " [  0.         -13.4427867   -2.18673496  -7.77839843]\n",
      " [  0.          -8.71003961  -1.39059045  -5.55082308]\n",
      " [  0.          -5.48752421  -0.9908469   -2.27736243]\n",
      " [  0.          -1.86737477  -5.49665946  -3.70411741]\n",
      " [  0.          -0.91137873  -8.19031906  -2.52153095]]\n",
      "Errors: 12/48\n"
     ]
    }
   ],
   "source": [
    "test_model(mu, sigma, pi, [0,2], testx, testy)"
   ],
   "metadata": {
    "collapsed": false,
    "pycharm": {
     "name": "#%%\n"
    }
   }
  },
  {
   "cell_type": "markdown",
   "source": [
    "Exercise 3. How many errors when using 'Alcohol', 'Ash', and 'Flavanoids'?"
   ],
   "metadata": {
    "collapsed": false
   }
  },
  {
   "cell_type": "code",
   "execution_count": 63,
   "outputs": [
    {
     "name": "stdout",
     "output_type": "stream",
     "text": [
      "[[  0.          -1.95171332  -8.905205   -63.54444667]\n",
      " [  0.          -6.90032227  -1.661605   -13.59299935]\n",
      " [  0.         -12.40892202  -3.5604044   -1.42189175]\n",
      " [  0.         -21.28224372  -3.73660315  -2.26089357]\n",
      " [  0.          -1.56009051  -8.33844206 -55.34089146]\n",
      " [  0.          -3.18951451  -2.99605739 -41.4082533 ]\n",
      " [  0.         -11.24608308  -2.9789003   -2.56844931]\n",
      " [  0.          -1.47660969  -7.39442697 -30.97109901]\n",
      " [  0.         -19.80388938  -6.25981824  -2.34197949]\n",
      " [  0.          -5.09515733  -1.652535   -28.77618903]\n",
      " [  0.          -1.81564972  -5.67882139 -23.29999032]\n",
      " [  0.          -2.38191794  -8.88792477 -35.32602711]\n",
      " [  0.          -6.80991536  -1.90422767 -21.09032903]\n",
      " [  0.          -0.87858047  -5.85721724 -54.06959063]\n",
      " [  0.          -9.02976786  -3.48929311  -4.15282599]\n",
      " [  0.         -10.41949103  -3.21491295 -19.51426397]\n",
      " [  0.         -20.13919323  -5.91689983  -3.83036022]\n",
      " [  0.          -0.83538513  -5.59263416 -34.81928979]\n",
      " [  0.         -24.01722983  -9.94280821  -4.2902207 ]\n",
      " [  0.          -8.04745083  -6.12872446  -4.82708944]\n",
      " [  0.         -18.68276175  -5.31955018  -0.82310087]\n",
      " [  0.          -3.35034648  -7.00540288 -28.91153384]\n",
      " [  0.          -6.93578988  -2.34481076 -51.54773258]\n",
      " [  0.          -9.6535884   -2.51422626  -7.47040581]\n",
      " [  0.          -3.04591073  -2.13809843 -28.71882942]\n",
      " [  0.         -17.77009842  -4.62730746 -29.56444222]\n",
      " [  0.         -17.94906845  -5.81819147  -0.30763223]\n",
      " [  0.         -23.57100733 -12.98369372  -4.0655278 ]\n",
      " [  0.          -5.54833216  -4.19291615 -13.95834016]\n",
      " [  0.         -13.59053212  -2.60207368  -7.64105119]\n",
      " [  0.          -9.91756295  -8.09085131 -27.55269917]\n",
      " [  0.          -3.77141337  -2.04450423 -33.81948698]\n",
      " [  0.         -18.74432047  -4.3343325   -0.57895057]\n",
      " [  0.         -17.48295739  -9.11258559  -4.40675069]\n",
      " [  0.          -1.00558079  -9.93344375 -44.87457711]\n",
      " [  0.          -2.41881575  -7.99019793 -71.53302389]\n",
      " [  0.         -22.14946529  -7.56661201  -4.37142849]\n",
      " [  0.         -11.79304316  -2.82684946 -11.37491779]\n",
      " [  0.         -14.77234536  -2.70781278  -3.42471149]\n",
      " [  0.         -12.45543296  -3.44803078  -9.88387003]\n",
      " [  0.          -3.31117662  -5.77557608 -25.61958319]\n",
      " [  0.          -2.98504091  -3.40345065 -20.16642754]\n",
      " [  0.          -0.8667324   -7.20757721 -56.56194737]\n",
      " [  0.         -15.38144224  -2.79679773 -21.7781623 ]\n",
      " [  0.          -9.74614337  -1.97681227 -28.02194424]\n",
      " [  0.          -6.22898704  -1.55779693 -21.35543193]\n",
      " [  0.          -2.25233674  -8.09676404 -75.01541234]\n",
      " [  0.         -23.60055607 -11.19293979  -2.11896162]]\n",
      "Errors: 3/48\n"
     ]
    }
   ],
   "source": [
    "test_model(mu, sigma, pi, [0,2,6], testx, testy)"
   ],
   "metadata": {
    "collapsed": false,
    "pycharm": {
     "name": "#%%\n"
    }
   }
  },
  {
   "cell_type": "markdown",
   "source": [
    "Exercise 4. How many errors when using all 13 features?"
   ],
   "metadata": {
    "collapsed": false
   }
  },
  {
   "cell_type": "code",
   "execution_count": 64,
   "outputs": [
    {
     "name": "stdout",
     "output_type": "stream",
     "text": [
      "[[   0.          -22.48283899  -49.09324281 -340.32246252]\n",
      " [   0.          -68.80524881  -23.26076616 -174.24560442]\n",
      " [   0.          -69.98343826  -42.4901946   -19.86703319]\n",
      " [   0.         -139.21579023  -50.5411453   -17.3721577 ]\n",
      " [   0.          -13.89338936  -31.81459714 -303.05131792]\n",
      " [   0.          -16.61674529  -28.16915707 -181.0700004 ]\n",
      " [   0.          -56.35655397  -39.04802152  -18.64046515]\n",
      " [   0.          -12.0684532   -50.14901978 -221.46896858]\n",
      " [   0.          -96.72198558  -36.92288987  -19.10884017]\n",
      " [   0.          -33.0286042   -19.20490883 -160.13598844]\n",
      " [   0.          -11.04594356  -30.41919632 -157.73354818]\n",
      " [   0.          -14.51854212  -32.06856612 -221.98708199]\n",
      " [   0.          -33.18508617  -15.17283681 -139.90886669]\n",
      " [   0.          -11.97778379  -56.24570862 -294.84274607]\n",
      " [   0.         -111.85449513  -67.03222745  -20.38729151]\n",
      " [   0.          -46.99499127  -20.50498312 -148.15176234]\n",
      " [   0.         -145.20083331  -64.42475299  -28.08326003]\n",
      " [   0.          -14.32173507  -27.56146653 -194.44155052]\n",
      " [   0.          -80.38498174  -27.41114851  -16.29100256]\n",
      " [   0.          -98.5434412   -66.04989163  -22.45488538]\n",
      " [   0.         -139.27291833  -60.52678419  -13.57434677]\n",
      " [   0.          -14.94568288  -38.53951472 -147.75620123]\n",
      " [   0.          -55.78799709  -27.01281176 -260.9187071 ]\n",
      " [   0.          -39.26766296  -17.66643733  -92.44629341]\n",
      " [   0.          -36.82521121  -18.23039261 -158.69821782]\n",
      " [   0.         -105.1517741   -33.54142244 -231.85564759]\n",
      " [   0.         -139.0637858   -65.72878762  -10.04497716]\n",
      " [   0.         -187.55617201  -89.89406319  -16.92573785]\n",
      " [   0.          -34.05891387  -18.86049537  -86.80906066]\n",
      " [   0.          -37.54086734  -15.5085893   -44.37246906]\n",
      " [   0.          -22.63888295  -22.14382112 -187.41181038]\n",
      " [   0.          -15.67112878  -17.0847192  -170.63367279]\n",
      " [   0.         -179.31527657  -96.93315415  -15.85478889]\n",
      " [   0.         -115.31257728  -78.72818375  -18.81411894]\n",
      " [   0.          -23.06240648  -51.99982429 -213.46981222]\n",
      " [   0.          -19.21683279  -46.66100831 -323.33703936]\n",
      " [   0.          -86.19421462  -29.65593532  -20.81519934]\n",
      " [   0.          -34.09051106  -15.03246812  -87.50091285]\n",
      " [   0.          -48.09893717  -23.62816978  -37.47489286]\n",
      " [   0.          -45.81171921  -19.89761958 -111.42272434]\n",
      " [   0.          -16.95057994  -31.21262693 -170.4854166 ]\n",
      " [   0.          -19.73556838  -30.73759625 -145.7213893 ]\n",
      " [   0.          -15.51163615  -46.0738709  -249.51465252]\n",
      " [   0.          -43.7252456   -16.81243937  -81.52736692]\n",
      " [   0.          -43.83889984  -21.22049746 -144.23492278]\n",
      " [   0.          -25.14974313  -17.2031645  -120.39673834]\n",
      " [   0.          -12.54255421  -33.17480965 -273.66275095]\n",
      " [   0.         -178.45754458  -87.72369165  -13.52327831]]\n",
      "Errors: 2/48\n"
     ]
    }
   ],
   "source": [
    "test_model(mu, sigma, pi, range(0,13), testx, testy)"
   ],
   "metadata": {
    "collapsed": false,
    "pycharm": {
     "name": "#%%\n"
    }
   }
  },
  {
   "cell_type": "markdown",
   "source": [
    "Exercise 5. In lecture, we got somewhat different answers to these questions. Why do you think that might be?"
   ],
   "metadata": {
    "collapsed": false
   }
  },
  {
   "cell_type": "code",
   "execution_count": 64,
   "outputs": [],
   "source": [],
   "metadata": {
    "collapsed": false,
    "pycharm": {
     "name": "#%%\n"
    }
   }
  }
 ],
 "metadata": {
  "kernelspec": {
   "name": "python3",
   "language": "python",
   "display_name": "Python 3"
  },
  "language_info": {
   "codemirror_mode": {
    "name": "ipython",
    "version": 2
   },
   "file_extension": ".py",
   "mimetype": "text/x-python",
   "name": "python",
   "nbconvert_exporter": "python",
   "pygments_lexer": "ipython2",
   "version": "2.7.13"
  },
  "toc": {
   "colors": {
    "hover_highlight": "#DAA520",
    "navigate_num": "#000000",
    "navigate_text": "#333333",
    "running_highlight": "#FF0000",
    "selected_highlight": "#FFD700",
    "sidebar_border": "#EEEEEE",
    "wrapper_background": "#FFFFFF"
   },
   "moveMenuLeft": true,
   "nav_menu": {
    "height": "12px",
    "width": "252px"
   },
   "navigate_menu": true,
   "number_sections": false,
   "sideBar": true,
   "threshold": 4,
   "toc_cell": false,
   "toc_section_display": "block",
   "toc_window_display": false,
   "widenNotebook": false
  }
 },
 "nbformat": 4,
 "nbformat_minor": 1
}